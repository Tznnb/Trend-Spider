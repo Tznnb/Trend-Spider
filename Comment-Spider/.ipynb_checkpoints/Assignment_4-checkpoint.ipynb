{
 "cells": [
  {
   "cell_type": "markdown",
   "id": "adc2473e",
   "metadata": {},
   "source": [
    "<img src = \"https://canvas.shufe.edu.cn/users/39612/files/75271/preview?verifier=QRqOqvEWqVMzy6cqxJHa2i433pA3R1KIj1LbBVIk\"\n",
    "         width = \"50%\" align = \"left\">"
   ]
  },
  {
   "cell_type": "markdown",
   "id": "2ff275d3",
   "metadata": {},
   "source": [
    "<br><br>"
   ]
  },
  {
   "cell_type": "code",
   "execution_count": 1,
   "id": "8f94a5e7",
   "metadata": {},
   "outputs": [],
   "source": [
    "import os\n",
    "import time\n",
    "import jieba\n",
    "import pandas as pd\n",
    "\n",
    "import requests\n",
    "from bs4 import BeautifulSoup\n",
    "from wordcloud import WordCloud\n",
    "\n",
    "import matplotlib.pyplot as plt"
   ]
  },
  {
   "cell_type": "code",
   "execution_count": 2,
   "id": "0b86e7b4",
   "metadata": {},
   "outputs": [],
   "source": [
    "myHeaders = {'User-Agent':'Mozilla/5.0 (Windows NT 10.0; Win64; x64) AppleWebKit/537.36 (KHTML, like Gecko) Chrome/102.0.5005.62 Safari/537.36'}\n",
    "url = requests.get('https://movie.douban.com/subject/30314848/', headers=myHeaders)\n",
    "url.encoding = 'utf-8'\n",
    "\n",
    "soup = BeautifulSoup(url.text, 'html.parser')"
   ]
  },
  {
   "cell_type": "code",
   "execution_count": 3,
   "id": "68faeb6b",
   "metadata": {},
   "outputs": [],
   "source": [
    "posterUrl = soup.find('img')['src']\n",
    "poster = requests.get(posterUrl, headers=myHeaders)\n",
    "path = './Poster.png'\n",
    "with open(path, 'wb') as file:\n",
    "    file.write(poster.content)"
   ]
  },
  {
   "cell_type": "markdown",
   "id": "2ca743b3",
   "metadata": {},
   "source": [
    "<img src = './Poster.png' width = \"20%\" align = \"left\">"
   ]
  },
  {
   "cell_type": "code",
   "execution_count": 4,
   "id": "62e68964",
   "metadata": {},
   "outputs": [
    {
     "name": "stdout",
     "output_type": "stream",
     "text": [
      "电影标题: 瞬息全宇宙 Everything Everywhere All at Once\n",
      "(2022)\n"
     ]
    }
   ],
   "source": [
    "print(f\"电影标题: {soup.find('h1').text.strip()}\")"
   ]
  },
  {
   "cell_type": "markdown",
   "id": "d1d9ac63",
   "metadata": {},
   "source": [
    "<br>"
   ]
  },
  {
   "cell_type": "markdown",
   "id": "a1c4545b",
   "metadata": {},
   "source": [
    "爬取该电影当前短评总数量与影评总数量，计算并展示两个数量的比例。"
   ]
  },
  {
   "cell_type": "code",
   "execution_count": 5,
   "id": "2be1c2e6",
   "metadata": {},
   "outputs": [
    {
     "name": "stdout",
     "output_type": "stream",
     "text": [
      "短评与长评的数量比例： 71.82\n"
     ]
    }
   ],
   "source": [
    "A = soup.find('a', {'href':'https://movie.douban.com/subject/30314848/comments?status=P'}).text\n",
    "a = int(\"\".join(list(filter(lambda x:x.isdigit(), A))))\n",
    "\n",
    "B = soup.find('a', {'href':'reviews'}).text\n",
    "b = int(\"\".join(list(filter(lambda x:x.isdigit(), B))))\n",
    "\n",
    "print(\"短评与长评的数量比例：\", f\"{a/b:.2f}\")"
   ]
  },
  {
   "cell_type": "markdown",
   "id": "0db94201",
   "metadata": {},
   "source": [
    "按热度从高到低排序，爬取该电影的前500条短评。  "
   ]
  },
  {
   "cell_type": "code",
   "execution_count": 7,
   "id": "af89a9d9",
   "metadata": {},
   "outputs": [],
   "source": [
    "# 写入html文档\n",
    "def getHtml(url, index):\n",
    "    try:\n",
    "        r = requests.get(url.format(index*50 - 50), headers=myHeaders)\n",
    "        r.raise_for_status()\n",
    "        r.encoding = 'utf-8'\n",
    "        path = './reviewing_pages/reviewing_page_{}.html'.format(index)\n",
    "        with open(path, 'w', encoding='utf-8') as file:\n",
    "            file.write(r.text)\n",
    "    except Exception as ex:\n",
    "        print(\"第{}页采集出错，出错原因:{}\".format(index, ex))"
   ]
  },
  {
   "cell_type": "code",
   "execution_count": 8,
   "id": "b84613ef",
   "metadata": {},
   "outputs": [],
   "source": [
    "# 得到textDocument\n",
    "def getText(html):\n",
    "    soup = BeautifulSoup(html, 'html.parser')\n",
    "    for p in soup.find_all('p', {'class':'comment-content'}):\n",
    "        shortComment = p.span.text\n",
    "        textDocument.append(shortComment)"
   ]
  },
  {
   "cell_type": "code",
   "execution_count": 9,
   "id": "a6505cfa",
   "metadata": {},
   "outputs": [],
   "source": [
    "# 得到launchTime\n",
    "def getTime(html):\n",
    "    soup = BeautifulSoup(html, 'html.parser')\n",
    "    for span in soup.find_all('span', {'class':'comment-time'}):\n",
    "        commentTime = span.text[21:31].replace('-', '')\n",
    "        launchTime.append(commentTime)"
   ]
  },
  {
   "cell_type": "code",
   "execution_count": 10,
   "id": "4d54a54f",
   "metadata": {},
   "outputs": [],
   "source": [
    "# 得到score\n",
    "import re\n",
    "def getScore(html):\n",
    "    soup = BeautifulSoup(html, 'html.parser')\n",
    "    for span in soup.find_all('span', {'class':'comment-info'}):\n",
    "        star = span.find('span', {'class':re.compile('allstar[1-5]0 rating')})\n",
    "        number = \"\".join(list(filter(lambda x:x.isdigit(), str(star))))\n",
    "        if len(number) == 2:\n",
    "            score.append(number[0] + '.0')\n",
    "        else:\n",
    "            score.append('NA')"
   ]
  },
  {
   "cell_type": "code",
   "execution_count": 11,
   "id": "ea5bea63",
   "metadata": {},
   "outputs": [],
   "source": [
    "# 得到usefulness\n",
    "def getUsefulness(html):\n",
    "    soup = BeautifulSoup(html, 'html.parser')\n",
    "    for span in soup.find_all('span', {'class':'votes vote-count'}):\n",
    "        vote = span.text\n",
    "        usefulness.append(vote)"
   ]
  },
  {
   "cell_type": "code",
   "execution_count": 12,
   "id": "3dbc95a4",
   "metadata": {},
   "outputs": [],
   "source": [
    "# 主程序\n",
    "url = 'https://movie.douban.com/subject/30314848/comments?start={}&limit=50&status=P&sort=new_score'\n",
    "score = []\n",
    "launchTime = []\n",
    "textDocument = []\n",
    "usefulness = []\n",
    "for index, value in enumerate(range(0, 500, 50), start=1):\n",
    "    if os.path.isfile('./reviewing_pages/reviewing_page_{}.html'.format(index)) == 0:\n",
    "        getHtml(url, index)   # 抓取一页评论数据\n",
    "        time.sleep(3)         # 休眠3秒再抓取下一页\n",
    "    fileName = 'reviewing_page_{}.html'.format(index)\n",
    "    with open('./reviewing_pages/reviewing_page_{}.html'.format(index), 'r', encoding='utf-8') as file:\n",
    "        html = file.read()\n",
    "        getText(html)\n",
    "        getTime(html)\n",
    "        getScore(html)\n",
    "        getUsefulness(html)"
   ]
  },
  {
   "cell_type": "code",
   "execution_count": 13,
   "id": "6b57ab26",
   "metadata": {},
   "outputs": [],
   "source": [
    "# test代码\n",
    "# print(len(textDocument))\n",
    "# print(launchTime)\n",
    "# print(len(launchTime))\n",
    "# print(score)\n",
    "# print(len(score))\n",
    "# print(len(usefulness))"
   ]
  },
  {
   "cell_type": "code",
   "execution_count": 14,
   "id": "0fc7e706",
   "metadata": {},
   "outputs": [
    {
     "data": {
      "text/html": [
       "<div>\n",
       "<style scoped>\n",
       "    .dataframe tbody tr th:only-of-type {\n",
       "        vertical-align: middle;\n",
       "    }\n",
       "\n",
       "    .dataframe tbody tr th {\n",
       "        vertical-align: top;\n",
       "    }\n",
       "\n",
       "    .dataframe thead th {\n",
       "        text-align: right;\n",
       "    }\n",
       "</style>\n",
       "<table border=\"1\" class=\"dataframe\">\n",
       "  <thead>\n",
       "    <tr style=\"text-align: right;\">\n",
       "      <th></th>\n",
       "      <th>发布时间</th>\n",
       "      <th>评分</th>\n",
       "      <th>有用数</th>\n",
       "      <th>文本</th>\n",
       "    </tr>\n",
       "  </thead>\n",
       "  <tbody>\n",
       "    <tr>\n",
       "      <th>0</th>\n",
       "      <td>20220415</td>\n",
       "      <td>4.0</td>\n",
       "      <td>7634</td>\n",
       "      <td>I wish someday i could see a movie where love ...</td>\n",
       "    </tr>\n",
       "    <tr>\n",
       "      <th>1</th>\n",
       "      <td>20220326</td>\n",
       "      <td>4.0</td>\n",
       "      <td>6430</td>\n",
       "      <td>一个东亚家庭能想到的最美和解：在税务局打打杀杀，签署离婚协议，在不能再破碎的情况下达到祖孙三...</td>\n",
       "    </tr>\n",
       "    <tr>\n",
       "      <th>2</th>\n",
       "      <td>20220518</td>\n",
       "      <td>4.0</td>\n",
       "      <td>6044</td>\n",
       "      <td>如果停在石头那儿就好了。</td>\n",
       "    </tr>\n",
       "    <tr>\n",
       "      <th>3</th>\n",
       "      <td>20220519</td>\n",
       "      <td>4.0</td>\n",
       "      <td>3514</td>\n",
       "      <td>那塞子状奖杯一出来我就感觉到了它的用途（不</td>\n",
       "    </tr>\n",
       "    <tr>\n",
       "      <th>4</th>\n",
       "      <td>20220430</td>\n",
       "      <td>3.0</td>\n",
       "      <td>4208</td>\n",
       "      <td>这么多个universe里没有一个accountant Evelyn可以让她顺利报税吗</td>\n",
       "    </tr>\n",
       "    <tr>\n",
       "      <th>5</th>\n",
       "      <td>20220327</td>\n",
       "      <td>2.0</td>\n",
       "      <td>1843</td>\n",
       "      <td>这么多花活大可不必。</td>\n",
       "    </tr>\n",
       "    <tr>\n",
       "      <th>6</th>\n",
       "      <td>20220418</td>\n",
       "      <td>4.0</td>\n",
       "      <td>2867</td>\n",
       "      <td>很喜欢变坏的女儿在平行宇宙的各种服装！</td>\n",
       "    </tr>\n",
       "    <tr>\n",
       "      <th>7</th>\n",
       "      <td>20220331</td>\n",
       "      <td>4.0</td>\n",
       "      <td>1664</td>\n",
       "      <td>玩得很飞，看得也很过瘾，“天马行空”四个字不足以形容杨紫琼穿梭过的所有宇宙；也真的很难跟以前...</td>\n",
       "    </tr>\n",
       "    <tr>\n",
       "      <th>8</th>\n",
       "      <td>20220327</td>\n",
       "      <td>5.0</td>\n",
       "      <td>16999</td>\n",
       "      <td>懂了，我活在杨紫琼多元宇宙里她在当女明星的那个宇宙</td>\n",
       "    </tr>\n",
       "    <tr>\n",
       "      <th>9</th>\n",
       "      <td>20220408</td>\n",
       "      <td>5.0</td>\n",
       "      <td>7674</td>\n",
       "      <td>实在没想到会为两块石头落泪</td>\n",
       "    </tr>\n",
       "  </tbody>\n",
       "</table>\n",
       "</div>"
      ],
      "text/plain": [
       "       发布时间   评分    有用数                                                 文本\n",
       "0  20220415  4.0   7634  I wish someday i could see a movie where love ...\n",
       "1  20220326  4.0   6430  一个东亚家庭能想到的最美和解：在税务局打打杀杀，签署离婚协议，在不能再破碎的情况下达到祖孙三...\n",
       "2  20220518  4.0   6044                                       如果停在石头那儿就好了。\n",
       "3  20220519  4.0   3514                              那塞子状奖杯一出来我就感觉到了它的用途（不\n",
       "4  20220430  3.0   4208        这么多个universe里没有一个accountant Evelyn可以让她顺利报税吗\n",
       "5  20220327  2.0   1843                                         这么多花活大可不必。\n",
       "6  20220418  4.0   2867                                很喜欢变坏的女儿在平行宇宙的各种服装！\n",
       "7  20220331  4.0   1664  玩得很飞，看得也很过瘾，“天马行空”四个字不足以形容杨紫琼穿梭过的所有宇宙；也真的很难跟以前...\n",
       "8  20220327  5.0  16999                          懂了，我活在杨紫琼多元宇宙里她在当女明星的那个宇宙\n",
       "9  20220408  5.0   7674                                      实在没想到会为两块石头落泪"
      ]
     },
     "execution_count": 14,
     "metadata": {},
     "output_type": "execute_result"
    }
   ],
   "source": [
    "# 主程序\n",
    "dic = {'发布时间':launchTime, '评分':score, '有用数':usefulness, '文本':textDocument}\n",
    "df = pd.DataFrame(dic, columns=['发布时间', '评分', '有用数', '文本'])\n",
    "df.head(10)"
   ]
  },
  {
   "cell_type": "markdown",
   "id": "31604e70",
   "metadata": {},
   "source": [
    "<br>**根据爬取的数据进行如下分析**"
   ]
  },
  {
   "cell_type": "markdown",
   "id": "f2e31a77",
   "metadata": {},
   "source": [
    "解析所有短评的文本，并画词云。"
   ]
  },
  {
   "cell_type": "code",
   "execution_count": 15,
   "id": "97de01ab",
   "metadata": {},
   "outputs": [],
   "source": [
    "with open('./data/stop_words.txt', 'r', encoding='utf-8') as f:\n",
    "    stop_words = f.readlines()\n",
    "stop_words = [w.strip('\\n') for w in stop_words]"
   ]
  },
  {
   "cell_type": "code",
   "execution_count": 16,
   "id": "5eda946b",
   "metadata": {},
   "outputs": [],
   "source": [
    "def createWordCloud(fileName):\n",
    "    with open(fileName, 'r', encoding='utf-8') as file:\n",
    "        text = file.read()\n",
    "    ls_word = jieba.lcut(text)  # 利用jieba库对所有评论进行分词\n",
    "    # 去除停词\n",
    "    ls_word = filter(lambda x: x not in stop_words, ls_word)\n",
    "    all_words = ','.join(ls_word)   # 所有词语以逗号连接成一个长字符串\n",
    "    wcloud = WordCloud(font_path=r'C:\\Windows\\fonts\\simhei.ttf', \n",
    "                      width=1000, height=800, \n",
    "                      background_color='white', \n",
    "                      max_words=200, \n",
    "                      margin=2)\n",
    "    wcloud.generate(all_words)\n",
    "    # 生成词云图片文件，主文件名同文本文件名\n",
    "    fileCloud = fileName.split('.txt')[0] + '.png'\n",
    "    wcloud.to_file(fileCloud)"
   ]
  },
  {
   "cell_type": "code",
   "execution_count": 17,
   "id": "c44165b3",
   "metadata": {
    "scrolled": false
   },
   "outputs": [
    {
     "name": "stderr",
     "output_type": "stream",
     "text": [
      "Building prefix dict from the default dictionary ...\n",
      "Loading model from cache C:\\Users\\Tzn\\AppData\\Local\\Temp\\jieba.cache\n",
      "Loading model cost 0.635 seconds.\n",
      "Prefix dict has been built successfully.\n"
     ]
    }
   ],
   "source": [
    "all_comment = './All_comment.txt'\n",
    "with open(all_comment, 'w', encoding='utf-8') as file:\n",
    "    file.writelines(textDocument)\n",
    "createWordCloud(all_comment)"
   ]
  },
  {
   "cell_type": "markdown",
   "id": "2d263748",
   "metadata": {},
   "source": [
    "<img src = \"./all_comment.png\"\n",
    "         width = \"30%\" align = \"left\">  全部组"
   ]
  },
  {
   "cell_type": "markdown",
   "id": "79f8ac9a",
   "metadata": {},
   "source": [
    "按照短评的评分将短评归为3组：“好评”组（4分或5分），“一般”组（3分），“差评”组（1分或2分）。针对每组短评的内容画词云."
   ]
  },
  {
   "cell_type": "code",
   "execution_count": 18,
   "id": "bf844560",
   "metadata": {},
   "outputs": [],
   "source": [
    "positive = []\n",
    "neutral = []\n",
    "negative = []\n",
    "index = 0\n",
    "for s in score:\n",
    "    if s == '1.0' or s == '2.0':\n",
    "        negative.append(textDocument[index])\n",
    "    elif s == '3.0':\n",
    "        neutral.append(textDocument[index])\n",
    "    elif s == '4.0' or s == '5.0':\n",
    "        positive.append(textDocument[index])\n",
    "    else:\n",
    "        pass\n",
    "    index += 1"
   ]
  },
  {
   "cell_type": "code",
   "execution_count": 19,
   "id": "f28a2e7b",
   "metadata": {},
   "outputs": [],
   "source": [
    "positive_comment = './Postive_comment.txt'\n",
    "with open(positive_comment, 'w', encoding='utf-8') as file:\n",
    "    file.writelines(positive)\n",
    "createWordCloud(positive_comment)"
   ]
  },
  {
   "cell_type": "code",
   "execution_count": 20,
   "id": "367766fd",
   "metadata": {},
   "outputs": [],
   "source": [
    "neutral_comment = './Neutral_comment.txt'\n",
    "with open(neutral_comment, 'w', encoding='utf-8') as file:\n",
    "    file.writelines(neutral)\n",
    "createWordCloud(neutral_comment)"
   ]
  },
  {
   "cell_type": "code",
   "execution_count": 21,
   "id": "8ac10f71",
   "metadata": {},
   "outputs": [],
   "source": [
    "negative_comment = './Negative_comment.txt'\n",
    "with open(negative_comment, 'w', encoding='utf-8') as file:\n",
    "    file.writelines(negative)\n",
    "createWordCloud(negative_comment)"
   ]
  },
  {
   "cell_type": "markdown",
   "id": "79d4f753",
   "metadata": {},
   "source": [
    "<img src = \"./postive_comment.png\" width = \"30%\" align = \"left\">好评组<br><br>\n",
    "<img src = \"./neutral_comment.png\" width = \"30%\" align = \"left\">一般组<br><br>\n",
    "<img src = \"./negative_comment.png\" width = \"30%\" align = \"left\">差评组<br><br>"
   ]
  },
  {
   "cell_type": "markdown",
   "id": "8f0c91e8",
   "metadata": {},
   "source": [
    "差评组出现很多负面词汇，如“混乱”、“花哨”，“恶趣味”等，好评组多为积极词汇，如“爱”、“家庭”、“女儿”等。"
   ]
  },
  {
   "cell_type": "markdown",
   "id": "59205782",
   "metadata": {},
   "source": [
    "将所有评论按时间排序，计算每天内发布的所有短评的评分的均值，并将评分均值序列使用matplotlib库画成折线图。"
   ]
  },
  {
   "cell_type": "code",
   "execution_count": 22,
   "id": "3880136e",
   "metadata": {},
   "outputs": [],
   "source": [
    "# 按时间排序，并将日期转换为天数\n",
    "newDf = df.sort_values(by='发布时间', ascending=True)\n",
    "newDf = newDf.reset_index(drop=True)\n",
    "newDf['date'] = pd.to_datetime(newDf['发布时间'], format='%Y%m%d')\n",
    "newDf['delta'] = pd.to_datetime(newDf['date'], dayfirst=True)\\\n",
    "    .sub(pd.to_datetime(newDf['date'][0], dayfirst=True))\\\n",
    "    .dt.days"
   ]
  },
  {
   "cell_type": "code",
   "execution_count": null,
   "id": "cb27d838",
   "metadata": {},
   "outputs": [],
   "source": [
    "# for test\n",
    "newDf"
   ]
  },
  {
   "cell_type": "code",
   "execution_count": 23,
   "id": "d5690123",
   "metadata": {},
   "outputs": [],
   "source": [
    "# 得到所有评分\n",
    "ls_score = []\n",
    "\n",
    "for score in newDf['评分']:\n",
    "    if score != 'NA':\n",
    "        ls_score.append(int(score[0]))\n",
    "    else:\n",
    "        ls_score.append(5)"
   ]
  },
  {
   "cell_type": "code",
   "execution_count": 24,
   "id": "14f5730c",
   "metadata": {},
   "outputs": [],
   "source": [
    "# 得到以日期为key，评分为value的字典\n",
    "statistics = {}\n",
    "\n",
    "for p, q in zip(newDf['delta'], ls_score):\n",
    "    if p in statistics:\n",
    "        statistics[p].append(q)\n",
    "    else:\n",
    "        statistics[p] = [q]"
   ]
  },
  {
   "cell_type": "code",
   "execution_count": 25,
   "id": "f7f3ba8f",
   "metadata": {},
   "outputs": [],
   "source": [
    "# 对每日评分取平均数\n",
    "import numpy as np\n",
    "statistics_backups = statistics.copy()\n",
    "for s in statistics:\n",
    "    array = np.array(statistics[s])\n",
    "    statistics[s] = array.mean()"
   ]
  },
  {
   "cell_type": "code",
   "execution_count": 26,
   "id": "ddc362ab",
   "metadata": {},
   "outputs": [
    {
     "data": {
      "text/plain": [
       "<matplotlib.collections.PathCollection at 0x23b66ea9bb0>"
      ]
     },
     "execution_count": 26,
     "metadata": {},
     "output_type": "execute_result"
    },
    {
     "data": {
      "image/png": "[encoded data removed]",
      "text/plain": [
       "<Figure size 432x288 with 1 Axes>"
      ]
     },
     "metadata": {
      "needs_background": "light"
     },
     "output_type": "display_data"
    }
   ],
   "source": [
    "# 绘图\n",
    "x = list(statistics.keys())\n",
    "y = list(statistics.values())\n",
    "plt.plot(x, y)\n",
    "plt.scatter(x, y)"
   ]
  },
  {
   "cell_type": "markdown",
   "id": "213536c3",
   "metadata": {},
   "source": [
    "按照短评的有用数对评分进行加权平均。"
   ]
  },
  {
   "cell_type": "code",
   "execution_count": 27,
   "id": "d21a9314",
   "metadata": {},
   "outputs": [],
   "source": [
    "# 计算加权平均\n",
    "def calculate(list1, list2):\n",
    "    if len(list1) != len(list2):\n",
    "        return 0\n",
    "    else:\n",
    "        sum = num =  0\n",
    "        for p, q in zip(list1, list2):\n",
    "            sum += p*q\n",
    "            num += q\n",
    "        return sum/num"
   ]
  },
  {
   "cell_type": "code",
   "execution_count": 28,
   "id": "c9922934",
   "metadata": {},
   "outputs": [],
   "source": [
    "# 得到所有有用数\n",
    "ls_usefulness = []\n",
    "for use in newDf['有用数']:\n",
    "    ls_usefulness.append(int(use))\n",
    "    \n",
    "# 得到以日期为key，有用数为value的字典\n",
    "use_statistics = {}\n",
    "for p, q in zip(newDf['delta'], ls_usefulness):\n",
    "    if p in use_statistics:\n",
    "        use_statistics[p].append(q)\n",
    "    else:\n",
    "        use_statistics[p] = [q]"
   ]
  },
  {
   "cell_type": "code",
   "execution_count": 29,
   "id": "db12419c",
   "metadata": {},
   "outputs": [],
   "source": [
    "# 对每日评分取加权平均数\n",
    "new_statistics = use_statistics.copy()\n",
    "for s in statistics_backups:\n",
    "    new_statistics[s] = calculate(statistics_backups[s], use_statistics[s])"
   ]
  },
  {
   "cell_type": "code",
   "execution_count": 30,
   "id": "ed2edf03",
   "metadata": {},
   "outputs": [
    {
     "data": {
      "text/plain": [
       "<matplotlib.collections.PathCollection at 0x23b671bca90>"
      ]
     },
     "execution_count": 30,
     "metadata": {},
     "output_type": "execute_result"
    },
    {
     "data": {
      "image/png": "[encoded data removed]",
      "text/plain": [
       "<Figure size 432x288 with 1 Axes>"
      ]
     },
     "metadata": {
      "needs_background": "light"
     },
     "output_type": "display_data"
    }
   ],
   "source": [
    "# 绘图\n",
    "x = list(new_statistics.keys())\n",
    "y = list(new_statistics.values())\n",
    "plt.plot(x, y)\n",
    "plt.scatter(x, y)"
   ]
  }
 ],
 "metadata": {
  "kernelspec": {
   "display_name": "Python 3 (ipykernel)",
   "language": "python",
   "name": "python3"
  },
  "language_info": {
   "codemirror_mode": {
    "name": "ipython",
    "version": 3
   },
   "file_extension": ".py",
   "mimetype": "text/x-python",
   "name": "python",
   "nbconvert_exporter": "python",
   "pygments_lexer": "ipython3",
   "version": "3.9.7"
  }
 },
 "nbformat": 4,
 "nbformat_minor": 5
}
